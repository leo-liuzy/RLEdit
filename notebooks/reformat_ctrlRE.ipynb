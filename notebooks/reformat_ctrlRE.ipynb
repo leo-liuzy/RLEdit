{
 "cells": [
  {
   "cell_type": "code",
   "execution_count": 1,
   "id": "503f5eb2",
   "metadata": {},
   "outputs": [],
   "source": [
    "from knowledge_propagation.utils import io"
   ]
  },
  {
   "cell_type": "code",
   "execution_count": 14,
   "id": "672878e9",
   "metadata": {},
   "outputs": [],
   "source": [
    "# cre_train = io.load_jsonlines(\"/u/zliu/datastor1/KE-by-CP/data/debug_meta_train/syn_data_neurips/4Ktrain_data_100percent_frozen/train_text_data_id_entity152_rel31.jsonl\")\n",
    "cre_train = io.load_jsonlines(\"/u/zliu/datastor1/KE-by-CP/data/debug_meta_train/syn_data_neurips/4Ktrain_data_100percent_frozen/valid_text_data_id_entity152_rel31.jsonl\")"
   ]
  },
  {
   "cell_type": "code",
   "execution_count": 15,
   "id": "14000e65",
   "metadata": {},
   "outputs": [],
   "source": [
    "# loc_train = io.load_json(\"/u/zliu/datastor1/RLEdit/data/raw/zsre/zsre_train.json\")\n",
    "loc_train = io.load_json(\"/u/zliu/datastor1/RLEdit/data/raw/zsre/zsre_eval.json\")"
   ]
  },
  {
   "cell_type": "code",
   "execution_count": 16,
   "id": "f4102ebd",
   "metadata": {},
   "outputs": [
    {
     "data": {
      "text/plain": [
       "{'subject': 'Watts Humphrey',\n",
       " 'src': 'What university did Watts Humphrey attend?',\n",
       " 'rephrase': 'What university did Watts Humphrey take part in?',\n",
       " 'alt': 'University of Michigan',\n",
       " 'loc': 'nq question: who played desmond doss father in hacksaw ridge',\n",
       " 'loc_ans': 'Hugo Weaving',\n",
       " 'ans': 'Illinois Institute of Technology'}"
      ]
     },
     "execution_count": 16,
     "metadata": {},
     "output_type": "execute_result"
    }
   ],
   "source": [
    "loc_train[0]"
   ]
  },
  {
   "cell_type": "code",
   "execution_count": 17,
   "id": "2ce2251f",
   "metadata": {},
   "outputs": [],
   "source": [
    "new_cre_train = []\n",
    "for i in range(len(cre_train)):\n",
    "    cre_d = cre_train[i]\n",
    "    new_cre_train.append(\n",
    "        {\n",
    "            \"text\": cre_d[\"text\"],\n",
    "            \"questions\": [q[\"alias_question\"] for q in cre_d[\"questions\"]],\n",
    "            \"answers\": [q[\"answer\"] for q in cre_d[\"questions\"]],\n",
    "            \"loc\": loc_train[i][\"loc\"],\n",
    "            \"loc_ans\": loc_train[i][\"loc_ans\"],\n",
    "        }\n",
    "    )"
   ]
  },
  {
   "cell_type": "code",
   "execution_count": 18,
   "id": "437e7727",
   "metadata": {},
   "outputs": [],
   "source": [
    "io.dump_json(new_cre_train, \"/u/zliu/datastor1/RLEdit/data/raw/ctrlRE/eval_4K.json\")"
   ]
  },
  {
   "cell_type": "code",
   "execution_count": null,
   "id": "2c5d4ba0",
   "metadata": {},
   "outputs": [],
   "source": []
  }
 ],
 "metadata": {
  "kernelspec": {
   "display_name": "cpt",
   "language": "python",
   "name": "python3"
  },
  "language_info": {
   "codemirror_mode": {
    "name": "ipython",
    "version": 3
   },
   "file_extension": ".py",
   "mimetype": "text/x-python",
   "name": "python",
   "nbconvert_exporter": "python",
   "pygments_lexer": "ipython3",
   "version": "3.11.0"
  }
 },
 "nbformat": 4,
 "nbformat_minor": 5
}
